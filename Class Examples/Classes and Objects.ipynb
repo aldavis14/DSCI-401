{
 "cells": [
  {
   "cell_type": "markdown",
   "metadata": {},
   "source": [
    "## A few examples on how to use classes and objects in python."
   ]
  },
  {
   "cell_type": "markdown",
   "metadata": {},
   "source": [
    "### 1. Illustrate class definition and object instantiation\n",
    "\n",
    "This uses the W3 Schools material, found here:\n",
    "[https://www.w3schools.com/python/python_classes.asp](https://www.w3schools.com/python/python_classes.asp)"
   ]
  },
  {
   "cell_type": "code",
   "execution_count": 15,
   "metadata": {},
   "outputs": [],
   "source": [
    "# Define a person class. \n",
    "class Person:\n",
    "    # This is the constuctor function - follow this format when defining a constructor for new classes.\n",
    "    def __init__(self, name, age):\n",
    "        self.name = name\n",
    "        self.age = age\n",
    "    # This method prints out some basic informations about this class.   \n",
    "    def print_info(self):\n",
    "        print('My name is '+str(self.name)+' and I am '+str(self.age)+' years old.')\n",
    "    # This method ages the person by n_birthdays.    \n",
    "    def have_some_birthdays(self, n_birthdays):\n",
    "        self.age += n_birthdays\n",
    "    \n",
    "    def check_type(self):\n",
    "        if isinstance(self.name, list)==True:\n",
    "            print('yay')\n"
   ]
  },
  {
   "cell_type": "code",
   "execution_count": 17,
   "metadata": {},
   "outputs": [
    {
     "name": "stdout",
     "output_type": "stream",
     "text": [
      "Chris\n",
      "110\n",
      "My name is Chris and I am 100 years old.\n",
      "My name is Allison and I am 110 years old.\n",
      "My name is Chris and I am 150 years old.\n",
      "My name is Allison and I am 60 years old.\n"
     ]
    }
   ],
   "source": [
    "# Illustrate how to use the Person class to create instances of Persons.\n",
    "person_1 = Person('Chris',100)\n",
    "person_2 = Person('Allison',110)\n",
    "\n",
    "# Directly access the member (also called 'instance') variables of the two objects created above.\n",
    "print(person_1.name)\n",
    "print(person_2.age)\n",
    "\n",
    "#Call the print_info methos on each instance.\n",
    "person_1.print_info()\n",
    "person_2.print_info()\n",
    "\n",
    "# Make the objects have some birthdays and then look at their altered state.\n",
    "person_1.have_some_birthdays(50)\n",
    "person_2.have_some_birthdays(-50) #fountain of youth\n",
    "\n",
    "person_1.print_info()\n",
    "person_2.print_info()\n",
    "\n",
    "person_1.check_type()"
   ]
  },
  {
   "cell_type": "code",
   "execution_count": 8,
   "metadata": {},
   "outputs": [
    {
     "data": {
      "text/plain": [
       "'Chris'"
      ]
     },
     "execution_count": 8,
     "metadata": {},
     "output_type": "execute_result"
    }
   ],
   "source": [
    "person_1.name"
   ]
  },
  {
   "cell_type": "markdown",
   "metadata": {},
   "source": [
    "### 2. Create KNN class skeleton - Extend in Assignment 3!"
   ]
  },
  {
   "cell_type": "code",
   "execution_count": 10,
   "metadata": {},
   "outputs": [],
   "source": [
    "# For Assignment 3 - this is what will go into your \"knn.py\" file.\n",
    "class KNN:\n",
    "    def __init__(self, k, distance_f):\n",
    "        print('implement')\n",
    "        # TO DO: create instance variables that store these values.\n",
    "    \n",
    "    def fit(self, X, y):\n",
    "        print('implement')\n",
    "        # TO DO: create instance variables that store these values.\n",
    "        # NOTES: 1) You will need to check types convert to numpy arrays if X and y are data frames. \n",
    "    \n",
    "    def predict(self, X):\n",
    "        print('implement')\n",
    "        # TO DO: Implement prediction logic and return list/array of predicted labels. convert to array\n",
    "    "
   ]
  },
  {
   "cell_type": "code",
   "execution_count": 11,
   "metadata": {},
   "outputs": [
    {
     "name": "stdout",
     "output_type": "stream",
     "text": [
      "implement\n"
     ]
    }
   ],
   "source": [
    "# Example usage of your KNN class\n",
    "\n",
    "from scipy.spatial.distance import euclidean\n",
    "import numpy as np\n",
    "#Import knn # Uncomment when this has been put into knn file\n",
    "#knn = KNN(3, lambda x,y: x-y)\n",
    "knn = KNN(3, euclidean)\n"
   ]
  },
  {
   "cell_type": "code",
   "execution_count": 12,
   "metadata": {},
   "outputs": [
    {
     "name": "stdout",
     "output_type": "stream",
     "text": [
      "8.0\n"
     ]
    }
   ],
   "source": [
    "# Example of the euclidean distance function\n",
    "v1 = np.array([1,2,3,4])\n",
    "v2 = np.array([5,6,7,8])\n",
    "print(euclidean(v1,v2))"
   ]
  },
  {
   "cell_type": "code",
   "execution_count": null,
   "metadata": {},
   "outputs": [],
   "source": []
  }
 ],
 "metadata": {
  "kernelspec": {
   "display_name": "Python 3",
   "language": "python",
   "name": "python3"
  },
  "language_info": {
   "codemirror_mode": {
    "name": "ipython",
    "version": 3
   },
   "file_extension": ".py",
   "mimetype": "text/x-python",
   "name": "python",
   "nbconvert_exporter": "python",
   "pygments_lexer": "ipython3",
   "version": "3.7.1"
  }
 },
 "nbformat": 4,
 "nbformat_minor": 2
}
