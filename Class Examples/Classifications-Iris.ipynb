{
 "cells": [
  {
   "cell_type": "markdown",
   "metadata": {},
   "source": [
    "## Exploring Different Classification Methods on the Iris Dataset "
   ]
  },
  {
   "cell_type": "code",
   "execution_count": 1,
   "metadata": {},
   "outputs": [
    {
     "data": {
      "text/html": [
       "<div>\n",
       "<style scoped>\n",
       "    .dataframe tbody tr th:only-of-type {\n",
       "        vertical-align: middle;\n",
       "    }\n",
       "\n",
       "    .dataframe tbody tr th {\n",
       "        vertical-align: top;\n",
       "    }\n",
       "\n",
       "    .dataframe thead th {\n",
       "        text-align: right;\n",
       "    }\n",
       "</style>\n",
       "<table border=\"1\" class=\"dataframe\">\n",
       "  <thead>\n",
       "    <tr style=\"text-align: right;\">\n",
       "      <th></th>\n",
       "      <th>Sepal.Length</th>\n",
       "      <th>Sepal.Width</th>\n",
       "      <th>Petal.Length</th>\n",
       "      <th>Petal.Width</th>\n",
       "      <th>Species</th>\n",
       "    </tr>\n",
       "  </thead>\n",
       "  <tbody>\n",
       "    <tr>\n",
       "      <th>0</th>\n",
       "      <td>5.1</td>\n",
       "      <td>3.5</td>\n",
       "      <td>1.4</td>\n",
       "      <td>0.2</td>\n",
       "      <td>setosa</td>\n",
       "    </tr>\n",
       "    <tr>\n",
       "      <th>1</th>\n",
       "      <td>4.9</td>\n",
       "      <td>3.0</td>\n",
       "      <td>1.4</td>\n",
       "      <td>0.2</td>\n",
       "      <td>setosa</td>\n",
       "    </tr>\n",
       "    <tr>\n",
       "      <th>2</th>\n",
       "      <td>4.7</td>\n",
       "      <td>3.2</td>\n",
       "      <td>1.3</td>\n",
       "      <td>0.2</td>\n",
       "      <td>setosa</td>\n",
       "    </tr>\n",
       "    <tr>\n",
       "      <th>3</th>\n",
       "      <td>4.6</td>\n",
       "      <td>3.1</td>\n",
       "      <td>1.5</td>\n",
       "      <td>0.2</td>\n",
       "      <td>setosa</td>\n",
       "    </tr>\n",
       "    <tr>\n",
       "      <th>4</th>\n",
       "      <td>5.0</td>\n",
       "      <td>3.6</td>\n",
       "      <td>1.4</td>\n",
       "      <td>0.2</td>\n",
       "      <td>setosa</td>\n",
       "    </tr>\n",
       "  </tbody>\n",
       "</table>\n",
       "</div>"
      ],
      "text/plain": [
       "   Sepal.Length  Sepal.Width  Petal.Length  Petal.Width Species\n",
       "0           5.1          3.5           1.4          0.2  setosa\n",
       "1           4.9          3.0           1.4          0.2  setosa\n",
       "2           4.7          3.2           1.3          0.2  setosa\n",
       "3           4.6          3.1           1.5          0.2  setosa\n",
       "4           5.0          3.6           1.4          0.2  setosa"
      ]
     },
     "execution_count": 1,
     "metadata": {},
     "output_type": "execute_result"
    }
   ],
   "source": [
    "# Import libraries.\n",
    "import pandas as pd\n",
    "from sklearn.model_selection import train_test_split\n",
    "from sklearn import preprocessing\n",
    "from sklearn import naive_bayes\n",
    "from sklearn import tree\n",
    "from error_metrics import *\n",
    "\n",
    "# Read in and inspect the data.\n",
    "data = pd.read_csv('./data/iris.csv')\n",
    "data.head()"
   ]
  },
  {
   "cell_type": "code",
   "execution_count": 2,
   "metadata": {},
   "outputs": [],
   "source": [
    "# Select x and y data.\n",
    "features = list(data)\n",
    "features.remove('Species')\n",
    "data_x = data[features]\n",
    "data_y = data['Species']"
   ]
  },
  {
   "cell_type": "code",
   "execution_count": 3,
   "metadata": {},
   "outputs": [],
   "source": [
    "# Convert class lables (species column) to numbers using label encoding. \n",
    "le = preprocessing.LabelEncoder()\n",
    "data_y = le.fit_transform(data_y)\n",
    "\n",
    "# Split into training and test sets.\n",
    "x_train, x_test, y_train, y_test = train_test_split(data_x, data_y, test_size=0.3, random_state=4)"
   ]
  },
  {
   "cell_type": "markdown",
   "metadata": {},
   "source": [
    "### Method 1: Naive Bayes"
   ]
  },
  {
   "cell_type": "code",
   "execution_count": 4,
   "metadata": {},
   "outputs": [
    {
     "name": "stdout",
     "output_type": "stream",
     "text": [
      "Accuracy: 0.9777777777777777\n",
      "Avg. F1 (Micro): 0.9777777777777777\n",
      "Avg. F1 (Macro): 0.9717813051146384\n",
      "Avg. F1 (Weighted): 0.9778953556731335\n",
      "Confusion Matrix: \n",
      "[[21  0  0]\n",
      " [ 0 10  0]\n",
      " [ 0  1 13]]\n",
      "              precision    recall  f1-score   support\n",
      "\n",
      "           0       1.00      1.00      1.00        21\n",
      "           1       1.00      0.91      0.95        11\n",
      "           2       0.93      1.00      0.96        13\n",
      "\n",
      "   micro avg       0.98      0.98      0.98        45\n",
      "   macro avg       0.98      0.97      0.97        45\n",
      "weighted avg       0.98      0.98      0.98        45\n",
      "\n"
     ]
    }
   ],
   "source": [
    "# Build and evaluate the model.\n",
    "gnb_mod = naive_bayes.GaussianNB()\n",
    "gnb_mod.fit(x_train, y_train)\n",
    "y_hat = gnb_mod.predict(x_test)\n",
    "print_multiclass_classif_error_report(y_test, y_hat)"
   ]
  },
  {
   "cell_type": "markdown",
   "metadata": {},
   "source": [
    "### Method 2: Decision Tree"
   ]
  },
  {
   "cell_type": "code",
   "execution_count": 5,
   "metadata": {},
   "outputs": [
    {
     "name": "stdout",
     "output_type": "stream",
     "text": [
      "Accuracy: 0.9777777777777777\n",
      "Avg. F1 (Micro): 0.9777777777777777\n",
      "Avg. F1 (Macro): 0.9709618874773139\n",
      "Avg. F1 (Weighted): 0.9775761242185925\n",
      "Confusion Matrix: \n",
      "[[21  0  0]\n",
      " [ 0  9  1]\n",
      " [ 0  0 14]]\n",
      "              precision    recall  f1-score   support\n",
      "\n",
      "           0       1.00      1.00      1.00        21\n",
      "           1       0.90      1.00      0.95         9\n",
      "           2       1.00      0.93      0.97        15\n",
      "\n",
      "   micro avg       0.98      0.98      0.98        45\n",
      "   macro avg       0.97      0.98      0.97        45\n",
      "weighted avg       0.98      0.98      0.98        45\n",
      "\n"
     ]
    }
   ],
   "source": [
    "# Approach 1: Gini Impurity \n",
    "dtree_gini = tree.DecisionTreeClassifier(criterion='gini')\n",
    "dtree_gini.fit(x_train, y_train)\n",
    "y_hat_gini = dtree_gini.predict(x_test)\n",
    "print_multiclass_classif_error_report(y_test, y_hat_gini)"
   ]
  },
  {
   "cell_type": "code",
   "execution_count": 6,
   "metadata": {},
   "outputs": [
    {
     "name": "stdout",
     "output_type": "stream",
     "text": [
      "Accuracy: 0.9777777777777777\n",
      "Avg. F1 (Micro): 0.9777777777777777\n",
      "Avg. F1 (Macro): 0.9709618874773139\n",
      "Avg. F1 (Weighted): 0.9775761242185925\n",
      "Confusion Matrix: \n",
      "[[21  0  0]\n",
      " [ 0  9  1]\n",
      " [ 0  0 14]]\n",
      "              precision    recall  f1-score   support\n",
      "\n",
      "           0       1.00      1.00      1.00        21\n",
      "           1       0.90      1.00      0.95         9\n",
      "           2       1.00      0.93      0.97        15\n",
      "\n",
      "   micro avg       0.98      0.98      0.98        45\n",
      "   macro avg       0.97      0.98      0.97        45\n",
      "weighted avg       0.98      0.98      0.98        45\n",
      "\n"
     ]
    }
   ],
   "source": [
    "# Approach 2: Information Entropy \n",
    "dtree_ent = tree.DecisionTreeClassifier(criterion='entropy')\n",
    "dtree_ent.fit(x_train, y_train)\n",
    "y_hat_ent = dtree_gini.predict(x_test)\n",
    "print_multiclass_classif_error_report(y_test, y_hat_ent)"
   ]
  },
  {
   "cell_type": "markdown",
   "metadata": {},
   "source": [
    "### Illustrate decoding labels"
   ]
  },
  {
   "cell_type": "code",
   "execution_count": 7,
   "metadata": {},
   "outputs": [
    {
     "name": "stdout",
     "output_type": "stream",
     "text": [
      "(Actual, Predicted): \n",
      "[('virginica', 'virginica'), ('setosa', 'setosa'), ('virginica', 'virginica'), ('virginica', 'virginica'), ('virginica', 'virginica'), ('versicolor', 'versicolor'), ('versicolor', 'versicolor'), ('setosa', 'setosa'), ('setosa', 'setosa'), ('virginica', 'versicolor'), ('setosa', 'setosa'), ('setosa', 'setosa'), ('setosa', 'setosa'), ('versicolor', 'versicolor'), ('virginica', 'virginica'), ('setosa', 'setosa'), ('versicolor', 'versicolor'), ('setosa', 'setosa'), ('setosa', 'setosa'), ('virginica', 'virginica'), ('setosa', 'setosa'), ('virginica', 'virginica'), ('versicolor', 'versicolor'), ('setosa', 'setosa'), ('setosa', 'setosa'), ('setosa', 'setosa'), ('setosa', 'setosa'), ('setosa', 'setosa'), ('setosa', 'setosa'), ('virginica', 'virginica'), ('versicolor', 'versicolor'), ('setosa', 'setosa'), ('virginica', 'virginica'), ('setosa', 'setosa'), ('versicolor', 'versicolor'), ('virginica', 'virginica'), ('virginica', 'virginica'), ('versicolor', 'versicolor'), ('versicolor', 'versicolor'), ('setosa', 'setosa'), ('virginica', 'virginica'), ('setosa', 'setosa'), ('versicolor', 'versicolor'), ('setosa', 'setosa'), ('virginica', 'virginica')]\n"
     ]
    }
   ],
   "source": [
    "# Illustrate recoding numeric classes back into original (text-based) labels.\n",
    "y_test_labs = le.inverse_transform(y_test)\n",
    "y_hat_labs = le.inverse_transform(y_hat)\n",
    "print('(Actual, Predicted): \\n'+str(list(zip(y_test_labs, y_hat_labs))))"
   ]
  },
  {
   "cell_type": "code",
   "execution_count": null,
   "metadata": {},
   "outputs": [],
   "source": []
  }
 ],
 "metadata": {
  "kernelspec": {
   "display_name": "Python 3",
   "language": "python",
   "name": "python3"
  },
  "language_info": {
   "codemirror_mode": {
    "name": "ipython",
    "version": 3
   },
   "file_extension": ".py",
   "mimetype": "text/x-python",
   "name": "python",
   "nbconvert_exporter": "python",
   "pygments_lexer": "ipython3",
   "version": "3.7.1"
  }
 },
 "nbformat": 4,
 "nbformat_minor": 2
}
